{
 "cells": [
  {
   "cell_type": "markdown",
   "id": "ef955538",
   "metadata": {},
   "source": [
    "딥러닝 모델은 우리가 흔히 접할 수 있는 온라인 마켓의 효율성을 높이는 데에도 유용하게 사용할 수 있다.\n",
    "   - 포토 후기의 이미지를 분석하여 어떤 패션 카테고리, 색상, 스타일등을 자동으로 인식 후 태그생성\n",
    "   - 사용자에게 유사 상품을 제안할 수 있다."
   ]
  },
  {
   "cell_type": "markdown",
   "id": "93a1393a",
   "metadata": {},
   "source": [
    "최초의 CNN 모델 - LeNet\n",
    "\n",
    "1. 페이스북의 얀 르쿤이 개발한 딥러닝 모델로 필기 숫자 인식을 위해 설계되었다.\n",
    "    - 미국 우편 서비스에서 우편물의 우편번호를 자동으로 인식하기 위해 처음으로 합성곱 신경망으로 적용되었다.\n",
    "    - 1998년 논문 Gradient-Based Learning Applied to Document Recognition에서 소개되었고, LeNet이라는 이름으로 알려졌다.\n",
    "    - LeNet은 르넷이라고 발음한다.\n",
    "\n",
    "2. 합성곱 신경망(Convolutional Neural Network)과 인공 신경망(Artifical Neural Network)의 차이점\n",
    "    - 인공 신경망(ANN)은 입력층, 은닉층, 출력층을 거쳐 데이터를 처리하며, 비교적 간단한 텍스트 분류 작업이나 금융데이터 예측에 사용된다.\n",
    "![인공신경망](image\\01-02-ANN2.png)\n",
    "   - 합성곱 신경망(CNN)은 이미지를 다룰 때 인공 신경망이 갖고이 있는 문제를 해결하기위해 설계되었습니다.\n",
    "      * 이미지와 같은 2차원 데이터에 특화된 신경망으로, 합성곱 층, 풀링 층, 완전 연결 층 등으로 구성된다.\n",
    "      * 합성곱층: 이미지의 작은 부분을 스캔하여 중요한 특성을 추출, 이렇게 추출된 출력을 특성 맵이라고한다.\n",
    "         - 입력된 이미지보다 더 큰 입력을 만들기 위해 이미지 가장자리에 빈 공간을 추가하는 과정을 패딩이라고한다.\n",
    "         - 패딩의 실제 입력 값이 아니기 때문에 0으로 체워져 있어 합성곱에 영향을 주지않는다.\n",
    "         - 입력과 특성 뱁의 크기를 동잏하게 만드는 세임 패딩과 순수한 입력 배열에 대해서만 합성곱을 수행하는 벨리드 패딩이 있다.\n",
    "         - 스트라이드: 필터가 이미지를 명 칸씩 이동하는지 설정한다. 크면 이미지 계산량은 줄어들지만 세밀한 페턴을 노칠수있다. \n",
    "      * 풀링층: 특성 맵을 축소해 처리 속도를 높이고, 모델을 더 중요한 패턴에 집중하도록 한다.\n",
    "      * 밀집층: 이전 층에서 추출된 특성을 바탕으로 최종 결과를 도출한다.\n",
    "![CNN](image\\02-02-CNN.png)    "
   ]
  },
  {
   "cell_type": "markdown",
   "id": "9dc62e4b",
   "metadata": {},
   "source": []
  },
  {
   "cell_type": "code",
   "execution_count": null,
   "id": "914844be",
   "metadata": {},
   "outputs": [
    {
     "name": "stdout",
     "output_type": "stream",
     "text": [
      "(10, 26, 26, 10)\n"
     ]
    }
   ],
   "source": [
    "# 합성곱층 만들기\n",
    "import keras\n",
    "from keras import layers\n",
    "\n",
    "# 정해지 위치에 값만 전달해도 되지만, 의미를 분명하게 드러내기 위해 매개변수 이름과 같이 사용한다.\n",
    "#   - filters: 필터의 개수, 합성곱층 출력의 마지막 차원을 결정한다.\n",
    "#   - kernel_size: 필터의 크기, 처음 두 차원에 해당하는 높이와 너비를 지정한다.\n",
    "conv1 = layers.Conv2D(filters=10, kernel_size=(3, 3))\n",
    "\n",
    "import numpy as np\n",
    "\n",
    "x = np.random.random((10, 28, 28, 1))  # (샘플 수, 높이, 너비, 채널 수)\n",
    "conv_out = conv1(x)  # 합성곱층에 입력을 전달한다.\n",
    "\n",
    "# 첫 번째 값: 배치 차원으로 10개의 샘플이 있다.\n",
    "# 두 번째, 세 번째 값: 필터 크기(3x3)를 적용해 28x28 이미지가 26x26으로 줄어들었다.\n",
    "# 네 번째 값: 필터 개수(10)만큼 특성 맵이 생성되었다.\n",
    "# 합성곱 연산은 특성 맵의 깊이가 깊어지면서 모델이 점점 더 복잡한 정보와 세부적인 패턴을 이해하게 만든다.\n",
    "#   - 이미지의 크기가 점점 작어지면서 중용한 특성만 남는다.\n",
    "print(conv_out.shape)  # (10, 26, 26, 10)"
   ]
  },
  {
   "cell_type": "markdown",
   "id": "0bae5c15",
   "metadata": {},
   "source": []
  }
 ],
 "metadata": {
  "kernelspec": {
   "display_name": "base",
   "language": "python",
   "name": "python3"
  },
  "language_info": {
   "codemirror_mode": {
    "name": "ipython",
    "version": 3
   },
   "file_extension": ".py",
   "mimetype": "text/x-python",
   "name": "python",
   "nbconvert_exporter": "python",
   "pygments_lexer": "ipython3",
   "version": "3.13.5"
  }
 },
 "nbformat": 4,
 "nbformat_minor": 5
}
